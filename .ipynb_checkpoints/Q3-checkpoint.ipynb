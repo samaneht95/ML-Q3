{
 "cells": [
  {
   "cell_type": "code",
   "execution_count": 110,
   "id": "eeae9677",
   "metadata": {},
   "outputs": [],
   "source": [
    "import pandas as pd\n",
    "import numpy as np\n",
    "import matplotlib.pyplot as plt"
   ]
  },
  {
   "cell_type": "code",
   "execution_count": 28,
   "id": "2c8cee7a",
   "metadata": {},
   "outputs": [],
   "source": [
    "data=pd.read_csv('data.csv')"
   ]
  },
  {
   "cell_type": "code",
   "execution_count": null,
   "id": "42a33181",
   "metadata": {},
   "outputs": [],
   "source": []
  },
  {
   "cell_type": "code",
   "execution_count": 30,
   "id": "b7c69e52",
   "metadata": {},
   "outputs": [
    {
     "name": "stdout",
     "output_type": "stream",
     "text": [
      "<class 'pandas.core.frame.DataFrame'>\n",
      "Int64Index: 2176 entries, 0 to 2631\n",
      "Data columns (total 37 columns):\n",
      " #   Column            Non-Null Count  Dtype  \n",
      "---  ------            --------------  -----  \n",
      " 0   Unnamed: 0        2176 non-null   int64  \n",
      " 1   name              2176 non-null   object \n",
      " 2   brand             2176 non-null   object \n",
      " 3   2G                2176 non-null   bool   \n",
      " 4   3G                2176 non-null   bool   \n",
      " 5   4G                2176 non-null   bool   \n",
      " 6   5G                2176 non-null   bool   \n",
      " 7   Announced         2176 non-null   float64\n",
      " 8   Status            2176 non-null   object \n",
      " 9   Weight            2176 non-null   float64\n",
      " 10  Length            2176 non-null   object \n",
      " 11  Width             2176 non-null   object \n",
      " 12  Diameter          2176 non-null   object \n",
      " 13  SIM               2176 non-null   object \n",
      " 14  Display Type      2176 non-null   object \n",
      " 15  Display Size      2176 non-null   float64\n",
      " 16  ppi               2176 non-null   float64\n",
      " 17  body ratio        2176 non-null   float64\n",
      " 18  OS                2176 non-null   object \n",
      " 19  battery_capacity  2176 non-null   float64\n",
      " 20  Price             2176 non-null   float64\n",
      " 21  CPU               2176 non-null   float64\n",
      " 22  ratio             2176 non-null   object \n",
      " 23  pixel             2176 non-null   float64\n",
      " 24  WLAN              2176 non-null   object \n",
      " 25  Colors            2176 non-null   object \n",
      " 26  Sensors           2176 non-null   object \n",
      " 27  Bluetooth         2176 non-null   object \n",
      " 28  GPU               2176 non-null   object \n",
      " 29  Loudspeaker       2176 non-null   bool   \n",
      " 30  3.5mm jack        2176 non-null   bool   \n",
      " 31  Chipset           2176 non-null   object \n",
      " 32  Network           2176 non-null   object \n",
      " 33  Internal          2176 non-null   object \n",
      " 34  Card slot         2176 non-null   object \n",
      " 35  RAM               2176 non-null   float64\n",
      " 36  Storage           2176 non-null   float64\n",
      "dtypes: bool(6), float64(11), int64(1), object(19)\n",
      "memory usage: 556.8+ KB\n"
     ]
    }
   ],
   "source": [
    "data.info()"
   ]
  },
  {
   "cell_type": "code",
   "execution_count": 31,
   "id": "563193a3",
   "metadata": {},
   "outputs": [],
   "source": [
    "# cleaning data\n",
    "for i,row in data.iterrows():\n",
    "    if \"Unfolded\" in row[\"Length\"]:\n",
    "        data.at[i, \"Length\"] = float(row[\"Length\"].split()[1])\n",
    "    elif \"mm\" in row[\"Length\"]:\n",
    "        data.at[i, \"Length\"] = float(row[\"Length\"].split(\"mm\")[0])\n",
    "        \n",
    "    if \"mm\" in row[\"Width\"]:\n",
    "        data.at[i, \"Width\"] = float(row[\"Width\"].split(\"mm\")[0])\n",
    "    \n",
    "    if len(row[\"Diameter\"].split(\"-\"))==2:\n",
    "        data.at[i, \"Diameter\"] = (float(row[\"Diameter\"].split(\"-\")[0]) + float(row[\"Diameter\"].split(\"-\")[1])) / 2    \n",
    "    if len(row[\"OS\"].split())<2:\n",
    "        data.at[i, \"OS\"]=row[\"OS\"][0:2]+\" \"+row[\"OS\"][2]\n",
    "\n",
    "\n",
    "data.Length=data.Length.astype('float')\n",
    "data.Width=data.Width.astype('float')\n",
    "data.Diameter=data.Diameter.astype('float')\n",
    "data[\"OS_version\"]=data.OS.apply(lambda x: x.split()[1])\n",
    "data[\"OS\"]=data.OS.apply(lambda x: x.split()[0])\n"
   ]
  },
  {
   "cell_type": "code",
   "execution_count": 32,
   "id": "fc2e14e0",
   "metadata": {},
   "outputs": [
    {
     "data": {
      "text/plain": [
       "samsung    417\n",
       "xiaomi     285\n",
       "other      243\n",
       "huawei     234\n",
       "zte        182\n",
       "lg         179\n",
       "lenovo     165\n",
       "htc        141\n",
       "sony       115\n",
       "asus       111\n",
       "nokia      104\n",
       "Name: brand, dtype: int64"
      ]
     },
     "execution_count": 32,
     "metadata": {},
     "output_type": "execute_result"
    }
   ],
   "source": [
    "data['OS'].replace(['Phone','HarmonyOS','iPadOS','EMUI','OS','Tizen','Windows','Firefox','Linux'], 'other', inplace=True)\n",
    "data.OS.value_counts()\n",
    "data.brand.value_counts()\n",
    "data[\"brand\"].replace(['blu','alcatel','apple','infinix'],\"other\",inplace=True)\n",
    "data.brand.value_counts()\n"
   ]
  },
  {
   "cell_type": "code",
   "execution_count": 54,
   "id": "9614f8bf",
   "metadata": {},
   "outputs": [
    {
     "data": {
      "text/plain": [
       "array([1, 2, 3, 5, 4, 6, 7, 9], dtype=int64)"
      ]
     },
     "execution_count": 54,
     "metadata": {},
     "output_type": "execute_result"
    }
   ],
   "source": [
    "data[\"color_num\"]=data.Colors.apply(lambda x:len(x.split(\",\")))\n",
    "data[\"sensors_num\"]=data.Sensors.apply(lambda x:len(x.split(\",\")))\n",
    "data[\"network_num\"]=data.Network.apply(lambda x:len(x.split(\",\")))\n",
    "data[\"internal_num\"]=data.Internal.apply(lambda x:len(x.split(\",\")))\n",
    "\n",
    "\n"
   ]
  },
  {
   "cell_type": "code",
   "execution_count": 120,
   "id": "7cec161c",
   "metadata": {},
   "outputs": [
    {
     "data": {
      "text/plain": [
       "microSDXC (dedicated slot)                                                                              821\n",
       "No                                                                                                      396\n",
       "microSDHC (dedicated slot)                                                                              346\n",
       "microSDXC (uses shared SIM slot)                                                                        346\n",
       "microSDXC                                                                                               122\n",
       "NM (Nano Memory), up to 256GB (uses shared SIM slot)                                                     41\n",
       "microSDXC (uses shared SIM slot) - dual SIM model only                                                   37\n",
       "microSDHC                                                                                                13\n",
       "microSDHC (dedicated slot), 8 GB included                                                                 9\n",
       "microSDXC (dedicated slot) - single-SIM modelmicroSDXC (uses shared SIM slot) - dual-SIM model            6\n",
       "Unspecified                                                                                               5\n",
       "microSDHC (dedicated slot), 16 GB included                                                                5\n",
       "NM (Nano Memory), up to 256GB (dedicated slot)                                                            4\n",
       "microSD                                                                                                   3\n",
       "microSDHC (uses shared SIM slot)                                                                          2\n",
       "microSDHC (dedicated slot), 2 GB included                                                                 2\n",
       "microSDXC (uses shared SIM slot) - dual-SIM model                                                         2\n",
       "microSDXC (dedicated slot) - single-SIM model                                                             2\n",
       "microSDHC (dedicated slot), 4 GB included                                                                 2\n",
       "SD, up to 32 GB                                                                                           1\n",
       "microSDXC (6GB model only)                                                                                1\n",
       "microSDXC (uses shared SIM slot) - USA onlymicroSDXC (dedicated slot) - International                     1\n",
       "microSDXC (dedicated slot) - Chinese version only                                                         1\n",
       "microSDHC (uses shared SIM slot) - mediatek modelmicroSDXC (uses shared SIM slot) - snapdragon model      1\n",
       "microSDXC (dedicated slot), 16 GB included                                                                1\n",
       "microSDXC (dedicated slot); microSDHC (SGP351)                                                            1\n",
       "microSDXC (dedicated slot) - F620SmicroSDHC (dedicated slot) - H650E                                      1\n",
       "Yes, up to 64 GB (dedicated slot)                                                                         1\n",
       "microSDXC (dedicated slot) - single-SIM modelNo microSDXC - dual-SIM model                                1\n",
       "microSDXC (only single sim model)                                                                         1\n",
       "microSDXC (dedicated slot), 2 GB included                                                                 1\n",
       "Name: Card slot, dtype: int64"
      ]
     },
     "execution_count": 120,
     "metadata": {},
     "output_type": "execute_result"
    }
   ],
   "source": [
    "data[\"Card slot\"].value_counts()"
   ]
  },
  {
   "cell_type": "code",
   "execution_count": 117,
   "id": "e14f7b3b",
   "metadata": {},
   "outputs": [
    {
     "data": {
      "text/plain": [
       "Index(['Unnamed: 0', 'name', '2G', '3G', '4G', '5G', 'Announced', 'Weight',\n",
       "       'Length', 'Width', 'Diameter', 'Display Type', 'Display Size', 'ppi',\n",
       "       'body ratio', 'battery_capacity', 'Price', 'CPU', 'ratio', 'pixel',\n",
       "       'WLAN', 'Colors', 'Sensors', 'Bluetooth', 'GPU', 'Loudspeaker',\n",
       "       '3.5mm jack', 'Chipset', 'Network', 'Internal', 'Card slot', 'RAM',\n",
       "       'Storage', 'OS_version', 'color_num', 'color_sensors', 'sensors_num',\n",
       "       'Card_num', 'network_num', 'internal_num', 'brand_asus', 'brand_htc',\n",
       "       'brand_huawei', 'brand_lenovo', 'brand_lg', 'brand_nokia',\n",
       "       'brand_other', 'brand_samsung', 'brand_sony', 'brand_xiaomi',\n",
       "       'brand_zte', 'Status_Available', 'Status_Coming', 'Status_Discontinued',\n",
       "       'SIM_Micro-SIM', 'SIM_Mini-SIM', 'SIM_Nano-SIM', 'SIM_eSIM',\n",
       "       'OS_Android', 'OS_iOS', 'OS_other'],\n",
       "      dtype='object')"
      ]
     },
     "execution_count": 117,
     "metadata": {},
     "output_type": "execute_result"
    }
   ],
   "source": [
    "df2.columns"
   ]
  },
  {
   "cell_type": "code",
   "execution_count": 118,
   "id": "196fdc3f",
   "metadata": {},
   "outputs": [],
   "source": [
    "from sklearn.preprocessing import LabelEncoder,OneHotEncoder\n",
    "\n",
    "\n",
    "data=pd.get_dummies(data,columns=[\"brand\",\"Status\",\"SIM\",\"OS\"])\n"
   ]
  },
  {
   "cell_type": "code",
   "execution_count": 115,
   "id": "dc06fc38",
   "metadata": {},
   "outputs": [
    {
     "data": {
      "text/plain": [
       "<Axes: xlabel='brand', ylabel='Price'>"
      ]
     },
     "execution_count": 115,
     "metadata": {},
     "output_type": "execute_result"
    },
    {
     "data": {
      "image/png": "[encoded data removed]",
      "text/plain": [
       "<Figure size 432x288 with 1 Axes>"
      ]
     },
     "metadata": {
      "needs_background": "light"
     },
     "output_type": "display_data"
    }
   ],
   "source": [
    "# import seaborn as sns\n",
    "# sns.boxplot(y=data.Price,x=data.brand)"
   ]
  },
  {
   "cell_type": "code",
   "execution_count": 275,
   "id": "c3d8a65c",
   "metadata": {},
   "outputs": [],
   "source": [
    "from sklearn.preprocessing import LabelEncoder,OneHotEncoder\n",
    "l_enc=LabelEncoder()\n",
    "\n",
    "data[\"2G\"]=l_enc.fit_transform(data[\"2G\"])\n",
    "data[\"3G\"]=l_enc.fit_transform(data[\"3G\"])\n",
    "data[\"4G\"]=l_enc.fit_transform(data[\"4G\"])\n",
    "data[\"5G\"]=l_enc.fit_transform(data[\"5G\"])\n",
    "\n",
    "\n",
    "# data[\"Display Type\"]=l_enc.fit_transform(data[\"Display Type\"])\n",
    "data.OS=l_enc.fit_transform(data.OS)\n",
    "data.ratio=l_enc.fit_transform(data.ratio)\n",
    "# data.WLAN=l_enc.fit_transform(data.WLAN)\n",
    "# data.Colors=l_enc.fit_transform(data.Colors)\n",
    "# data.Sensors=l_enc.fit_transform(data.Sensors)\n",
    "# data.Bluetooth=l_enc.fit_transform(data.Bluetooth)\n",
    "# data.GPU=l_enc.fit_transform(data.GPU)\n",
    "data.Loudspeaker=l_enc.fit_transform(data.Loudspeaker)\n",
    "data[\"3.5mm jack\"]=l_enc.fit_transform(data[\"3.5mm jack\"])\n",
    "# data[\"Chipset\"]=l_enc.fit_transform(data[\"Chipset\"])\n",
    "# data[\"Network\"]=l_enc.fit_transform(data[\"Network\"])\n",
    "# data[\"Internal\"]=l_enc.fit_transform(data[\"Internal\"])\n",
    "# data[\"Card slot\"]=l_enc.fit_transform(data[\"Card slot\"])\n",
    "data[\"OS_version\"]=l_enc.fit_transform(data[\"OS_version\"])\n"
   ]
  },
  {
   "cell_type": "code",
   "execution_count": 276,
   "id": "32f80402",
   "metadata": {},
   "outputs": [],
   "source": [
    "# defining X and y\n",
    "X=data.drop([\"name\",\"Price\",\"Unnamed: 0\"],axis=1)\n",
    "y=data.Price"
   ]
  },
  {
   "cell_type": "code",
   "execution_count": 277,
   "id": "73e472e0",
   "metadata": {},
   "outputs": [],
   "source": [
    "# scaling features for data\n",
    "from sklearn.preprocessing import StandardScaler\n",
    "\n",
    "st_scaler=StandardScaler()\n",
    "X=st_scaler.fit_transform(X)\n",
    "X=pd.DataFrame(X,columns=['brand', '2G', '3G', '4G', '5G', 'Announced', 'Status', 'Weight',\n",
    "       'Length', 'Width', 'Diameter', 'SIM', 'Display Type', 'Display Size',\n",
    "       'ppi', 'body ratio', 'OS', 'battery_capacity', 'CPU', 'ratio', 'pixel',\n",
    "       'WLAN', 'Colors', 'Sensors', 'Bluetooth', 'GPU', 'Loudspeaker',\n",
    "       '3.5mm jack', 'Chipset', 'Network', 'Internal', 'Card slot', 'RAM',\n",
    "       'Storage', 'OS_version'])"
   ]
  },
  {
   "cell_type": "code",
   "execution_count": 278,
   "id": "57a23dd1",
   "metadata": {},
   "outputs": [],
   "source": [
    "from sklearn.model_selection import train_test_split\n",
    "\n",
    "X_train, X_eval, y_train, y_eval = train_test_split(X, y, test_size=0.25, random_state=42)"
   ]
  },
  {
   "cell_type": "code",
   "execution_count": 281,
   "id": "65c450e5",
   "metadata": {},
   "outputs": [
    {
     "name": "stdout",
     "output_type": "stream",
     "text": [
      "0.999903233960654\n",
      "0.4330115921618929\n"
     ]
    }
   ],
   "source": [
    "from sklearn.tree import DecisionTreeRegressor\n",
    "from sklearn.metrics import mean_squared_error, mean_absolute_error, r2_score\n",
    "\n",
    "reg=DecisionTreeRegressor(random_state=42)\n",
    "reg.fit(X_train,y_train)\n",
    "y_pred=reg.predict(X_train)\n",
    "print(r2_score(y_train,y_pred))\n",
    "y_pred=reg.predict(X_eval)\n",
    "print(r2_score(y_eval,y_pred))"
   ]
  },
  {
   "cell_type": "code",
   "execution_count": 283,
   "id": "c5c76e73",
   "metadata": {},
   "outputs": [
    {
     "name": "stdout",
     "output_type": "stream",
     "text": [
      "best estimator:  {'max_depth': 10, 'max_features': None, 'max_leaf_nodes': None, 'min_samples_leaf': 5, 'min_samples_split': 2} r2_score for train data:  0.8359161843975536\n",
      "best estimator:  {'max_depth': 10, 'max_features': None, 'max_leaf_nodes': None, 'min_samples_leaf': 5, 'min_samples_split': 2} r2_score for evaluation data:  0.523396684290505\n"
     ]
    }
   ],
   "source": [
    "from sklearn.model_selection import GridSearchCV\n",
    "\n",
    "params = {\n",
    "    'max_depth': [1,3,5,10,20],\n",
    "    'min_samples_leaf': [1,3,5,10],\n",
    "    \"min_samples_split\":[2,4,6,8],\n",
    "    \"max_features\":[None,1,2,3],\n",
    "    \"max_leaf_nodes\":[None,2,3,5]\n",
    "}\n",
    "reg=DecisionTreeRegressor(random_state=42)\n",
    "\n",
    "grid_search = GridSearchCV(reg, params, cv=5)\n",
    "grid_search.fit(X_train,y_train)\n",
    "y_pred=grid_search.best_estimator_.predict(X_train)\n",
    "print(\"best estimator: \",grid_search.best_params_,\"r2_score for train data: \",r2_score(y_train,y_pred))\n",
    "y_pred=grid_search.best_estimator_.predict(X_eval)\n",
    "print(\"best estimator: \",grid_search.best_params_,\"r2_score for evaluation data: \",r2_score(y_eval,y_pred))"
   ]
  },
  {
   "cell_type": "code",
   "execution_count": 255,
   "id": "37e50acd",
   "metadata": {},
   "outputs": [
    {
     "name": "stdout",
     "output_type": "stream",
     "text": [
      "r2 score for train data:  0.6312135395861092\n",
      "r2 score for evaluation data:  0.6275698696379638\n"
     ]
    },
    {
     "data": {
      "text/plain": [
       "array([-1.39767204e+01,  1.17239551e-13,  3.11629912e+00,  1.35153073e+01,\n",
       "        1.55957990e+01, -7.59636483e+01,  4.76560183e+00,  5.10516253e+01,\n",
       "        3.16520136e+01,  3.61663173e+01, -2.92147246e+00,  3.70256301e+00,\n",
       "        1.04948382e+01, -1.12781844e+02, -9.95324893e+00,  5.48378393e+01,\n",
       "        6.29617721e+00, -6.00414674e+00, -1.16937880e+01,  6.24417604e+00,\n",
       "        5.53927042e+01,  2.13910931e+00,  2.99491612e+00, -1.55403108e+01,\n",
       "        1.06573986e+01,  6.60331123e-01, -5.70054587e+00, -1.59435927e+01,\n",
       "        6.20262004e+00,  2.15784936e+00, -3.62323500e+00, -1.19586308e+01,\n",
       "        6.88589598e+01,  5.74487509e+01,  1.25365059e+01])"
      ]
     },
     "execution_count": 255,
     "metadata": {},
     "output_type": "execute_result"
    }
   ],
   "source": [
    "from sklearn.linear_model import LinearRegression\n",
    "from sklearn.metrics import accuracy_score\n",
    "from sklearn.metrics import mean_squared_error, mean_absolute_error, r2_score\n",
    "\n",
    "lr=LinearRegression()\n",
    "lr.fit(X_train,y_train)\n",
    "y_pred=lr.predict(X_train)\n",
    "print(\"r2 score for train data: \",r2_score(y_train,y_pred))\n",
    "y_pred_eval=lr.predict(X_eval)\n",
    "print(\"r2 score for evaluation data: \",r2_score(y_eval,y_pred_eval))\n",
    "lr.coef_"
   ]
  },
  {
   "cell_type": "code",
   "execution_count": null,
   "id": "86f65e9e",
   "metadata": {},
   "outputs": [],
   "source": []
  }
 ],
 "metadata": {
  "kernelspec": {
   "display_name": "Python 3 (ipykernel)",
   "language": "python",
   "name": "python3"
  },
  "language_info": {
   "codemirror_mode": {
    "name": "ipython",
    "version": 3
   },
   "file_extension": ".py",
   "mimetype": "text/x-python",
   "name": "python",
   "nbconvert_exporter": "python",
   "pygments_lexer": "ipython3",
   "version": "3.10.1"
  }
 },
 "nbformat": 4,
 "nbformat_minor": 5
}
